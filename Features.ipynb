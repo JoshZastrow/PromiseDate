{
 "cells": [
  {
   "cell_type": "code",
   "execution_count": 1,
   "metadata": {},
   "outputs": [],
   "source": [
    "import pandas as pd\n",
    "import numpy  as np"
   ]
  },
  {
   "cell_type": "code",
   "execution_count": 137,
   "metadata": {},
   "outputs": [],
   "source": [
    "# load in data, specify dtype of ambiguous data\n",
    "df1 = pd.read_csv(\"data/JobOper.csv\", encoding=\"latin1\", dtype={'JobNum': str, 'PurPoint': str, 'WIName': str})\n",
    "df2 = pd.read_csv(\"data/jobHead.csv\", encoding=\"latin1\", dtype={'JobNum': str, 'EngineerCode_c': str})\n",
    "df3 = pd.read_csv(\"data/LaborDtl.csv\", encoding=\"latin1\", dtype={'JobNum': str})"
   ]
  },
  {
   "cell_type": "code",
   "execution_count": 138,
   "metadata": {},
   "outputs": [],
   "source": [
    "# keep only completed Jobs\n",
    "df1 = df1[df1.JobComplete == True]\n",
    "df2 = df2[df2.JobComplete == True]"
   ]
  },
  {
   "cell_type": "markdown",
   "metadata": {},
   "source": [
    "#### Look at available columns in JobOper Table"
   ]
  },
  {
   "cell_type": "code",
   "execution_count": 80,
   "metadata": {},
   "outputs": [
    {
     "name": "stdout",
     "output_type": "stream",
     "text": [
      "JobOper Table\n",
      "------------\n",
      "ActBurCost          ActLabCost          ActProdHours        AddedOper           AssemblySeq         \n",
      "CommentText         Company             DaysOut             Description         DocUnitPrice        \n",
      "DueDate             DueHour             EstProdHours        EstScrap            EstScrapType        \n",
      "EstSetHours         EstSetHoursPerMch   EstUnitCost         HoursPerMachine     IUM                 \n",
      "JobComplete         JobEngineered       JobNum              LaborEntryMethod    LastLaborDate       \n",
      "LoadDate            LoadHour            Machines            MoveDueDate         MoveDueHour         \n",
      "OpCode              OpComplete          OpDesc              OprSeq              OpsPerPart          \n",
      "PartNum             PrimaryProdOpDtl    PrimarySetupOpDtl   ProdBurRate         ProdComplete        \n",
      "ProdCrewSize        ProdLabRate         ProdStandard        PurPoint            QtyCompleted        \n",
      "QtyPer              QueStartDate        QueStartHour        RevisionNum         RunQty              \n",
      "SchedRelation       SetUpCrewSize       SetupBurRate        SetupComplete       SetupLabRate        \n",
      "SetupPctComplete    StartDate           StartHour           StdBasis            StdFormat           \n",
      "SubContract         VendorNum           WIDueDate           WIDueHour           WIHoursPerMachine   \n",
      "WILoadDate          WILoadHour          WIMachines          WIMoveDueDate       WIMoveDueHour       \n"
     ]
    }
   ],
   "source": [
    "cols = sorted(df1.columns)\n",
    "\n",
    "print('JobOper Table\\n------------')\n",
    "for i in range(0, len(cols) - 5, 5):\n",
    "    print('{:20}{:20}{:20}{:20}{:20}'.format(*cols[i:i+5]))"
   ]
  },
  {
   "cell_type": "code",
   "execution_count": 87,
   "metadata": {},
   "outputs": [
    {
     "name": "stdout",
     "output_type": "stream",
     "text": [
      "LaborDtl Table\n",
      "------------\n",
      "ActiveTrans         ClockInDate         ClockInMInute       ClockOutMinute      ClockOutTime        \n",
      "ClockinTime         Company             Complete            CreateDate          Downtime            \n",
      "EarnedHrs           JobNum              LaborDtlSeq         LaborEntryMethod    LaborHedSeq         \n",
      "LaborHrs            LaborQty            LaborRate           LaborType           OpCode              \n",
      "OpComplete          OprSeq              ResourceGrpID       ResourceID          SetupPctComplete    \n"
     ]
    }
   ],
   "source": [
    "cols = sorted(df3.columns)\n",
    "\n",
    "print('LaborDtl Table\\n------------')\n",
    "for i in range(0, len(cols) - 5, 5):\n",
    "    print('{:20}{:20}{:20}{:20}{:20}'.format(*cols[i:i+5]))"
   ]
  },
  {
   "cell_type": "code",
   "execution_count": 88,
   "metadata": {},
   "outputs": [
    {
     "name": "stdout",
     "output_type": "stream",
     "text": [
      "JobHead Table\n",
      "------------\n",
      "AnalysisCode        BasePartNum         BaseRevisionNum     CallLine            CallNum             \n",
      "Candidate           CheckOff1           CheckOff2           CheckOff3           CheckOff4           \n",
      "CheckOff5           CloseMeterReading   ClosedDate          CommentText         Company             \n",
      "ContractID          CreateDate          CreatedBy           CustID              CustName            \n",
      "Customer_c          DatePurged          DaysLate            DrawNum             DtlsWithinLeadTime  \n",
      "DueDate             DueHour             EPMExportLevel      EngineerCode_c      EngineeringApproval_c\n",
      "EngineeringReview_c EquipID             ExpenseCode         ExportRequested     ExternalMES         \n",
      "ForeignSysRowID     Forward             GroupSeq            HDCaseNum           IUM                 \n",
      "InCopyList          InitialReview_c     IsCSRSet            IssueTopicID1       IssueTopicID10      \n",
      "IssueTopicID2       IssueTopicID3       IssueTopicID4       IssueTopicID5       IssueTopicID6       \n",
      "IssueTopicID7       IssueTopicID8       IssueTopicID9       IssueTopics         JobCSR              \n",
      "JobClosed           JobCode             JobComplete         JobCompletionDate   JobEngineered       \n",
      "JobFirm             JobHeld             JobNum              JobReleased         JobType             \n",
      "JobWorkflowState    LastChangedBy       LastChangedOn       LastExternalMESDate LastScheduleDate    \n",
      "LastScheduleProc    LockQty             MSPPredecessor      MSPTaskID           MaintPriority       \n",
      "NoAutoClosing       NoAutoCompletion    NumberSource        OrigProdQty         OwnershipStatus     \n",
      "PAAExists           PCLinkRemoved       PDMObjID            PartDescription     PartNum             \n",
      "PersonID            PersonList          PhaseID             PlanGUID            PlanNum             \n",
      "PlanUserID          PlannedActionDate   PlannedKitDate      Plant               PreserveOrigQtys    \n",
      "ProcSuspendedUpdatesProcessMode         ProdCode            ProdQty             ProdTeamID          \n",
      "ProductionYield     ProjProcessed       ProjProcessedDate   ProjectID           QtyCompleted        \n",
      "QtyMinimum_c        QualityApproval_c   QuoteLine           QuoteNum            ReqDueDate          \n",
      "ResTopicID1         ResTopicID10        ResTopicID2         ResTopicID3         ResTopicID4         \n",
      "ResTopicID5         ResTopicID6         ResTopicID7         ResTopicID8         ResTopicID9         \n",
      "ResTopics           RestoreFlag         RevisionNum         RoughCut            RoughCutScheduled   \n",
      "SchedCode           SchedLocked         SchedPriority       SchedSeq            SchedStatus         \n",
      "SplitJob            SplitMfgCostElementsStartDate           StartHour           StatusLastPrinted   \n",
      "StatusReadyToPrint  SyncReqBy           SysRowID            TravelerLastPrinted TravelerReadyToPrint\n",
      "UnReadyCostProcess  UserChar1           UserChar2           UserChar3           UserChar4           \n",
      "UserDate1           UserDate2           UserDate3           UserDate4           UserDecimal1        \n",
      "UserDecimal2        UserInteger1        UserInteger2        UserMapData         WIDueDate           \n",
      "WIDueHour           WIName              WIPCleared          WIStartDate         WIStartHour         \n"
     ]
    }
   ],
   "source": [
    "cols = sorted(df2.columns)\n",
    "\n",
    "print('JobHead Table\\n------------')\n",
    "for i in range(0, len(cols) - 5, 5):\n",
    "    print('{:20}{:20}{:20}{:20}{:20}'.format(*cols[i:i+5]))"
   ]
  },
  {
   "cell_type": "markdown",
   "metadata": {},
   "source": [
    "### Processing LaborDtl table: Get Actual StartDates"
   ]
  },
  {
   "cell_type": "code",
   "execution_count": 139,
   "metadata": {},
   "outputs": [],
   "source": [
    "# Get Actual Start Dates from labor details\n",
    "df3 = df3.loc[:, ['JobNum', 'CreateDate']].groupby('JobNum', as_index=False).apply(min)"
   ]
  },
  {
   "cell_type": "markdown",
   "metadata": {},
   "source": [
    "### Processing JobHead table: getting scheduled dates"
   ]
  },
  {
   "cell_type": "code",
   "execution_count": 159,
   "metadata": {},
   "outputs": [
    {
     "data": {
      "text/html": [
       "<div>\n",
       "<style scoped>\n",
       "    .dataframe tbody tr th:only-of-type {\n",
       "        vertical-align: middle;\n",
       "    }\n",
       "\n",
       "    .dataframe tbody tr th {\n",
       "        vertical-align: top;\n",
       "    }\n",
       "\n",
       "    .dataframe thead th {\n",
       "        text-align: right;\n",
       "    }\n",
       "</style>\n",
       "<table border=\"1\" class=\"dataframe\">\n",
       "  <thead>\n",
       "    <tr style=\"text-align: right;\">\n",
       "      <th></th>\n",
       "      <th>JobNum</th>\n",
       "      <th>SchedDays</th>\n",
       "      <th>ActualDays</th>\n",
       "    </tr>\n",
       "  </thead>\n",
       "  <tbody>\n",
       "    <tr>\n",
       "      <th>0</th>\n",
       "      <td>70398</td>\n",
       "      <td>26</td>\n",
       "      <td>45</td>\n",
       "    </tr>\n",
       "    <tr>\n",
       "      <th>1</th>\n",
       "      <td>80586</td>\n",
       "      <td>44</td>\n",
       "      <td>42</td>\n",
       "    </tr>\n",
       "    <tr>\n",
       "      <th>2</th>\n",
       "      <td>68912</td>\n",
       "      <td>33</td>\n",
       "      <td>43</td>\n",
       "    </tr>\n",
       "    <tr>\n",
       "      <th>3</th>\n",
       "      <td>80917</td>\n",
       "      <td>23</td>\n",
       "      <td>14</td>\n",
       "    </tr>\n",
       "    <tr>\n",
       "      <th>4</th>\n",
       "      <td>80639</td>\n",
       "      <td>16</td>\n",
       "      <td>10</td>\n",
       "    </tr>\n",
       "  </tbody>\n",
       "</table>\n",
       "</div>"
      ],
      "text/plain": [
       "  JobNum  SchedDays  ActualDays\n",
       "0  70398         26          45\n",
       "1  80586         44          42\n",
       "2  68912         33          43\n",
       "3  80917         23          14\n",
       "4  80639         16          10"
      ]
     },
     "execution_count": 159,
     "metadata": {},
     "output_type": "execute_result"
    }
   ],
   "source": [
    "# drop jobs without any schedule\n",
    "df = df2.copy()\n",
    "df = df.dropna(axis=0, subset=['StartDate', 'JobCompletionDate'])\n",
    "\n",
    "df['SchedDays'] = df.apply(lambda x: len(pd.bdate_range(x.StartDate, x.DueDate)), axis=1)\n",
    "\n",
    "# Simplify df2 to just job dates\n",
    "df = df.loc[:, ['JobNum', 'SchedDays', 'JobCompletionDate']]\n",
    "\n",
    "# Join the Actual Start Dates to df2\n",
    "df = df.merge(df3, how='inner', on='JobNum')\n",
    "df['ActualDays'] = df.apply(lambda x: len(pd.bdate_range(x.CreateDate, x.JobCompletionDate)), axis=1)\n",
    "df = df.drop(labels=['JobCompletionDate', 'CreateDate'], axis=1)\n",
    "df.head()"
   ]
  },
  {
   "cell_type": "markdown",
   "metadata": {},
   "source": [
    "### Create a few features from JobOper "
   ]
  },
  {
   "cell_type": "code",
   "execution_count": 160,
   "metadata": {},
   "outputs": [],
   "source": [
    "# Turn these columns into strings\n",
    "df1['JobNum'] = df1.JobNum.map(str)\n",
    "df1['AssemblySeq'] = df1.AssemblySeq.map(str)\n",
    "df1['OprSeq'] = df1.OprSeq.map(str)"
   ]
  },
  {
   "cell_type": "code",
   "execution_count": 161,
   "metadata": {},
   "outputs": [
    {
     "name": "stdout",
     "output_type": "stream",
     "text": [
      "<class 'pandas.core.frame.DataFrame'>\n",
      "Int64Index: 4413 entries, 0 to 4412\n",
      "Data columns (total 3 columns):\n",
      "JobNum        4413 non-null object\n",
      "SchedDays     4413 non-null int64\n",
      "ActualDays    4413 non-null int64\n",
      "dtypes: int64(2), object(1)\n",
      "memory usage: 137.9+ KB\n"
     ]
    }
   ],
   "source": [
    "df['JobNum'] = df.JobNum.map(str)\n",
    "df.info()"
   ]
  },
  {
   "cell_type": "code",
   "execution_count": 162,
   "metadata": {},
   "outputs": [],
   "source": [
    "# Number of operations on the job\n",
    "num_operations = df1.groupby('JobNum', as_index=False).size()\n",
    "num_operations = num_operations.to_frame(name='OpCount').reset_index()\n",
    "\n",
    "# company category\n",
    "company = df1[['JobNum', 'Company']].groupby('JobNum', as_index=False).first()\n",
    "\n",
    "# Number of Production hours to complete\n",
    "tot_production = df1.loc[:, ['JobNum', 'EstProdHours']].groupby('JobNum', as_index=False).sum().rename({'EstProdHours':'TotalProdHours'})\n",
    "\n",
    "# Number of setup hours\n",
    "tot_setupHours = df1.loc[:, ['JobNum', 'EstSetHours']].groupby('JobNum', as_index=False).sum().rename({'EstSetHours':'TotalSetupHours'})\n",
    "\n",
    "# total lead time for all subcontract operations\n",
    "tot_subleadtime = df1.loc[:, ['JobNum', 'DaysOut']].groupby('JobNum', as_index=False).sum().rename({'DaysOut':'TotalSubLeadTime'})\n",
    "\n",
    "# total costs of subcontract operations\n",
    "tot_subconCosts = df1.loc[:, ['JobNum', 'EstUnitCost']].groupby('JobNum', as_index=False).sum().rename({'EstUnitCost':'TotalSubCost'})\n",
    "\n",
    "# number of subcontract operations\n",
    "num_subcontract = df1.loc[:, ['JobNum', 'SubContract']].groupby('JobNum', as_index=False).sum().rename({'SubContract':'TotalSubContractOps'})"
   ]
  },
  {
   "cell_type": "markdown",
   "metadata": {},
   "source": [
    "### Combine all features"
   ]
  },
  {
   "cell_type": "code",
   "execution_count": 163,
   "metadata": {},
   "outputs": [
    {
     "data": {
      "text/html": [
       "<div>\n",
       "<style scoped>\n",
       "    .dataframe tbody tr th:only-of-type {\n",
       "        vertical-align: middle;\n",
       "    }\n",
       "\n",
       "    .dataframe tbody tr th {\n",
       "        vertical-align: top;\n",
       "    }\n",
       "\n",
       "    .dataframe thead th {\n",
       "        text-align: right;\n",
       "    }\n",
       "</style>\n",
       "<table border=\"1\" class=\"dataframe\">\n",
       "  <thead>\n",
       "    <tr style=\"text-align: right;\">\n",
       "      <th></th>\n",
       "      <th>JobNum</th>\n",
       "      <th>SchedDays</th>\n",
       "      <th>ActualDays</th>\n",
       "      <th>Company</th>\n",
       "      <th>OpCount</th>\n",
       "      <th>EstProdHours</th>\n",
       "      <th>EstSetHours</th>\n",
       "      <th>DaysOut</th>\n",
       "      <th>EstUnitCost</th>\n",
       "      <th>SubContract</th>\n",
       "    </tr>\n",
       "  </thead>\n",
       "  <tbody>\n",
       "    <tr>\n",
       "      <th>0</th>\n",
       "      <td>70398</td>\n",
       "      <td>26</td>\n",
       "      <td>45</td>\n",
       "      <td>HEM</td>\n",
       "      <td>14.0</td>\n",
       "      <td>21.04</td>\n",
       "      <td>2.55</td>\n",
       "      <td>11.0</td>\n",
       "      <td>0.49593</td>\n",
       "      <td>3.0</td>\n",
       "    </tr>\n",
       "    <tr>\n",
       "      <th>1</th>\n",
       "      <td>80586</td>\n",
       "      <td>44</td>\n",
       "      <td>42</td>\n",
       "      <td>HEM</td>\n",
       "      <td>12.0</td>\n",
       "      <td>9.25</td>\n",
       "      <td>3.50</td>\n",
       "      <td>29.0</td>\n",
       "      <td>7.99764</td>\n",
       "      <td>4.0</td>\n",
       "    </tr>\n",
       "    <tr>\n",
       "      <th>2</th>\n",
       "      <td>68912</td>\n",
       "      <td>33</td>\n",
       "      <td>43</td>\n",
       "      <td>HEM</td>\n",
       "      <td>13.0</td>\n",
       "      <td>36.47</td>\n",
       "      <td>10.25</td>\n",
       "      <td>3.0</td>\n",
       "      <td>0.00000</td>\n",
       "      <td>1.0</td>\n",
       "    </tr>\n",
       "    <tr>\n",
       "      <th>3</th>\n",
       "      <td>80917</td>\n",
       "      <td>23</td>\n",
       "      <td>14</td>\n",
       "      <td>HEM</td>\n",
       "      <td>7.0</td>\n",
       "      <td>16.41</td>\n",
       "      <td>2.84</td>\n",
       "      <td>8.0</td>\n",
       "      <td>12.74412</td>\n",
       "      <td>2.0</td>\n",
       "    </tr>\n",
       "    <tr>\n",
       "      <th>4</th>\n",
       "      <td>80639</td>\n",
       "      <td>16</td>\n",
       "      <td>10</td>\n",
       "      <td>HEM</td>\n",
       "      <td>4.0</td>\n",
       "      <td>3.50</td>\n",
       "      <td>0.00</td>\n",
       "      <td>10.0</td>\n",
       "      <td>0.35000</td>\n",
       "      <td>1.0</td>\n",
       "    </tr>\n",
       "    <tr>\n",
       "      <th>5</th>\n",
       "      <td>70116</td>\n",
       "      <td>40</td>\n",
       "      <td>55</td>\n",
       "      <td>HEM</td>\n",
       "      <td>4.0</td>\n",
       "      <td>13.50</td>\n",
       "      <td>3.00</td>\n",
       "      <td>0.0</td>\n",
       "      <td>0.00000</td>\n",
       "      <td>0.0</td>\n",
       "    </tr>\n",
       "    <tr>\n",
       "      <th>6</th>\n",
       "      <td>021088-1</td>\n",
       "      <td>8</td>\n",
       "      <td>5</td>\n",
       "      <td>SMC</td>\n",
       "      <td>7.0</td>\n",
       "      <td>88.02</td>\n",
       "      <td>0.50</td>\n",
       "      <td>2.0</td>\n",
       "      <td>0.00000</td>\n",
       "      <td>1.0</td>\n",
       "    </tr>\n",
       "    <tr>\n",
       "      <th>7</th>\n",
       "      <td>021365</td>\n",
       "      <td>10</td>\n",
       "      <td>22</td>\n",
       "      <td>NaN</td>\n",
       "      <td>NaN</td>\n",
       "      <td>NaN</td>\n",
       "      <td>NaN</td>\n",
       "      <td>NaN</td>\n",
       "      <td>NaN</td>\n",
       "      <td>NaN</td>\n",
       "    </tr>\n",
       "    <tr>\n",
       "      <th>8</th>\n",
       "      <td>020659</td>\n",
       "      <td>24</td>\n",
       "      <td>82</td>\n",
       "      <td>NaN</td>\n",
       "      <td>NaN</td>\n",
       "      <td>NaN</td>\n",
       "      <td>NaN</td>\n",
       "      <td>NaN</td>\n",
       "      <td>NaN</td>\n",
       "      <td>NaN</td>\n",
       "    </tr>\n",
       "    <tr>\n",
       "      <th>9</th>\n",
       "      <td>81725</td>\n",
       "      <td>5</td>\n",
       "      <td>2</td>\n",
       "      <td>HEM</td>\n",
       "      <td>4.0</td>\n",
       "      <td>6.89</td>\n",
       "      <td>2.00</td>\n",
       "      <td>0.0</td>\n",
       "      <td>0.00000</td>\n",
       "      <td>0.0</td>\n",
       "    </tr>\n",
       "  </tbody>\n",
       "</table>\n",
       "</div>"
      ],
      "text/plain": [
       "     JobNum  SchedDays  ActualDays Company  OpCount  EstProdHours  \\\n",
       "0     70398         26          45     HEM     14.0         21.04   \n",
       "1     80586         44          42     HEM     12.0          9.25   \n",
       "2     68912         33          43     HEM     13.0         36.47   \n",
       "3     80917         23          14     HEM      7.0         16.41   \n",
       "4     80639         16          10     HEM      4.0          3.50   \n",
       "5     70116         40          55     HEM      4.0         13.50   \n",
       "6  021088-1          8           5     SMC      7.0         88.02   \n",
       "7    021365         10          22     NaN      NaN           NaN   \n",
       "8    020659         24          82     NaN      NaN           NaN   \n",
       "9     81725          5           2     HEM      4.0          6.89   \n",
       "\n",
       "   EstSetHours  DaysOut  EstUnitCost  SubContract  \n",
       "0         2.55     11.0      0.49593          3.0  \n",
       "1         3.50     29.0      7.99764          4.0  \n",
       "2        10.25      3.0      0.00000          1.0  \n",
       "3         2.84      8.0     12.74412          2.0  \n",
       "4         0.00     10.0      0.35000          1.0  \n",
       "5         3.00      0.0      0.00000          0.0  \n",
       "6         0.50      2.0      0.00000          1.0  \n",
       "7          NaN      NaN          NaN          NaN  \n",
       "8          NaN      NaN          NaN          NaN  \n",
       "9         2.00      0.0      0.00000          0.0  "
      ]
     },
     "execution_count": 163,
     "metadata": {},
     "output_type": "execute_result"
    }
   ],
   "source": [
    "df = df.merge(company, how='left', on='JobNum')\n",
    "df = df.merge(num_operations, how='left', on='JobNum')\n",
    "df = df.merge(tot_production, how='left', on='JobNum')\n",
    "df = df.merge(tot_setupHours, how='left', on='JobNum')\n",
    "df = df.merge(tot_subleadtime, how='left', on='JobNum')\n",
    "df = df.merge(tot_subconCosts, how='left', on='JobNum')\n",
    "df = df.merge(num_subcontract, how='left', on='JobNum')\n",
    "\n",
    "df.head(10)"
   ]
  },
  {
   "cell_type": "code",
   "execution_count": 164,
   "metadata": {},
   "outputs": [
    {
     "name": "stdout",
     "output_type": "stream",
     "text": [
      "Total Rows: 4413\n"
     ]
    }
   ],
   "source": [
    "print('Total Rows:', df.shape[0])"
   ]
  },
  {
   "cell_type": "code",
   "execution_count": 165,
   "metadata": {},
   "outputs": [
    {
     "data": {
      "text/html": [
       "<div>\n",
       "<style scoped>\n",
       "    .dataframe tbody tr th:only-of-type {\n",
       "        vertical-align: middle;\n",
       "    }\n",
       "\n",
       "    .dataframe tbody tr th {\n",
       "        vertical-align: top;\n",
       "    }\n",
       "\n",
       "    .dataframe thead th {\n",
       "        text-align: right;\n",
       "    }\n",
       "</style>\n",
       "<table border=\"1\" class=\"dataframe\">\n",
       "  <thead>\n",
       "    <tr style=\"text-align: right;\">\n",
       "      <th></th>\n",
       "      <th>SchedDays</th>\n",
       "      <th>ActualDays</th>\n",
       "      <th>OpCount</th>\n",
       "      <th>EstProdHours</th>\n",
       "      <th>EstSetHours</th>\n",
       "      <th>DaysOut</th>\n",
       "      <th>EstUnitCost</th>\n",
       "      <th>SubContract</th>\n",
       "    </tr>\n",
       "  </thead>\n",
       "  <tbody>\n",
       "    <tr>\n",
       "      <th>count</th>\n",
       "      <td>4413.000000</td>\n",
       "      <td>4413.000000</td>\n",
       "      <td>3025.000000</td>\n",
       "      <td>3025.000000</td>\n",
       "      <td>3025.000000</td>\n",
       "      <td>3025.000000</td>\n",
       "      <td>3025.000000</td>\n",
       "      <td>3025.000000</td>\n",
       "    </tr>\n",
       "    <tr>\n",
       "      <th>mean</th>\n",
       "      <td>27.554725</td>\n",
       "      <td>39.112169</td>\n",
       "      <td>6.720000</td>\n",
       "      <td>28.401881</td>\n",
       "      <td>2.383617</td>\n",
       "      <td>10.289580</td>\n",
       "      <td>4.712025</td>\n",
       "      <td>1.246612</td>\n",
       "    </tr>\n",
       "    <tr>\n",
       "      <th>std</th>\n",
       "      <td>142.780306</td>\n",
       "      <td>47.654519</td>\n",
       "      <td>4.139189</td>\n",
       "      <td>109.950878</td>\n",
       "      <td>3.112705</td>\n",
       "      <td>22.727979</td>\n",
       "      <td>19.706281</td>\n",
       "      <td>1.311582</td>\n",
       "    </tr>\n",
       "    <tr>\n",
       "      <th>min</th>\n",
       "      <td>0.000000</td>\n",
       "      <td>1.000000</td>\n",
       "      <td>1.000000</td>\n",
       "      <td>0.000000</td>\n",
       "      <td>0.000000</td>\n",
       "      <td>0.000000</td>\n",
       "      <td>0.000000</td>\n",
       "      <td>0.000000</td>\n",
       "    </tr>\n",
       "    <tr>\n",
       "      <th>25%</th>\n",
       "      <td>6.000000</td>\n",
       "      <td>7.000000</td>\n",
       "      <td>3.000000</td>\n",
       "      <td>3.250000</td>\n",
       "      <td>0.500000</td>\n",
       "      <td>0.000000</td>\n",
       "      <td>0.000000</td>\n",
       "      <td>0.000000</td>\n",
       "    </tr>\n",
       "    <tr>\n",
       "      <th>50%</th>\n",
       "      <td>15.000000</td>\n",
       "      <td>25.000000</td>\n",
       "      <td>6.000000</td>\n",
       "      <td>8.640000</td>\n",
       "      <td>2.000000</td>\n",
       "      <td>5.000000</td>\n",
       "      <td>0.000000</td>\n",
       "      <td>1.000000</td>\n",
       "    </tr>\n",
       "    <tr>\n",
       "      <th>75%</th>\n",
       "      <td>32.000000</td>\n",
       "      <td>54.000000</td>\n",
       "      <td>9.000000</td>\n",
       "      <td>22.100000</td>\n",
       "      <td>3.190000</td>\n",
       "      <td>13.000000</td>\n",
       "      <td>1.960000</td>\n",
       "      <td>2.000000</td>\n",
       "    </tr>\n",
       "    <tr>\n",
       "      <th>max</th>\n",
       "      <td>9133.000000</td>\n",
       "      <td>553.000000</td>\n",
       "      <td>32.000000</td>\n",
       "      <td>3939.110000</td>\n",
       "      <td>102.000000</td>\n",
       "      <td>535.000000</td>\n",
       "      <td>594.676900</td>\n",
       "      <td>10.000000</td>\n",
       "    </tr>\n",
       "  </tbody>\n",
       "</table>\n",
       "</div>"
      ],
      "text/plain": [
       "         SchedDays   ActualDays      OpCount  EstProdHours  EstSetHours  \\\n",
       "count  4413.000000  4413.000000  3025.000000   3025.000000  3025.000000   \n",
       "mean     27.554725    39.112169     6.720000     28.401881     2.383617   \n",
       "std     142.780306    47.654519     4.139189    109.950878     3.112705   \n",
       "min       0.000000     1.000000     1.000000      0.000000     0.000000   \n",
       "25%       6.000000     7.000000     3.000000      3.250000     0.500000   \n",
       "50%      15.000000    25.000000     6.000000      8.640000     2.000000   \n",
       "75%      32.000000    54.000000     9.000000     22.100000     3.190000   \n",
       "max    9133.000000   553.000000    32.000000   3939.110000   102.000000   \n",
       "\n",
       "           DaysOut  EstUnitCost  SubContract  \n",
       "count  3025.000000  3025.000000  3025.000000  \n",
       "mean     10.289580     4.712025     1.246612  \n",
       "std      22.727979    19.706281     1.311582  \n",
       "min       0.000000     0.000000     0.000000  \n",
       "25%       0.000000     0.000000     0.000000  \n",
       "50%       5.000000     0.000000     1.000000  \n",
       "75%      13.000000     1.960000     2.000000  \n",
       "max     535.000000   594.676900    10.000000  "
      ]
     },
     "execution_count": 165,
     "metadata": {},
     "output_type": "execute_result"
    }
   ],
   "source": [
    "df.describe()"
   ]
  },
  {
   "cell_type": "code",
   "execution_count": 166,
   "metadata": {},
   "outputs": [
    {
     "name": "stdout",
     "output_type": "stream",
     "text": [
      "<class 'pandas.core.frame.DataFrame'>\n",
      "Int64Index: 4413 entries, 0 to 4412\n",
      "Data columns (total 10 columns):\n",
      "JobNum          4413 non-null object\n",
      "SchedDays       4413 non-null int64\n",
      "ActualDays      4413 non-null int64\n",
      "Company         3025 non-null object\n",
      "OpCount         3025 non-null float64\n",
      "EstProdHours    3025 non-null float64\n",
      "EstSetHours     3025 non-null float64\n",
      "DaysOut         3025 non-null float64\n",
      "EstUnitCost     3025 non-null float64\n",
      "SubContract     3025 non-null float64\n",
      "dtypes: float64(6), int64(2), object(2)\n",
      "memory usage: 379.2+ KB\n"
     ]
    }
   ],
   "source": [
    "df.info()"
   ]
  },
  {
   "cell_type": "code",
   "execution_count": 167,
   "metadata": {},
   "outputs": [],
   "source": [
    "df = df.dropna()"
   ]
  },
  {
   "cell_type": "code",
   "execution_count": 168,
   "metadata": {},
   "outputs": [
    {
     "name": "stdout",
     "output_type": "stream",
     "text": [
      "<class 'pandas.core.frame.DataFrame'>\n",
      "Int64Index: 3025 entries, 0 to 4412\n",
      "Data columns (total 10 columns):\n",
      "JobNum          3025 non-null object\n",
      "SchedDays       3025 non-null int64\n",
      "ActualDays      3025 non-null int64\n",
      "Company         3025 non-null object\n",
      "OpCount         3025 non-null float64\n",
      "EstProdHours    3025 non-null float64\n",
      "EstSetHours     3025 non-null float64\n",
      "DaysOut         3025 non-null float64\n",
      "EstUnitCost     3025 non-null float64\n",
      "SubContract     3025 non-null float64\n",
      "dtypes: float64(6), int64(2), object(2)\n",
      "memory usage: 260.0+ KB\n"
     ]
    }
   ],
   "source": [
    "df.info()"
   ]
  },
  {
   "cell_type": "code",
   "execution_count": 169,
   "metadata": {},
   "outputs": [],
   "source": [
    "df.to_csv('features.csv', sep=',', encoding='utf-8')"
   ]
  }
 ],
 "metadata": {
  "kernelspec": {
   "display_name": "Python 3",
   "language": "python",
   "name": "python3"
  },
  "language_info": {
   "codemirror_mode": {
    "name": "ipython",
    "version": 3
   },
   "file_extension": ".py",
   "mimetype": "text/x-python",
   "name": "python",
   "nbconvert_exporter": "python",
   "pygments_lexer": "ipython3",
   "version": "3.6.4"
  }
 },
 "nbformat": 4,
 "nbformat_minor": 2
}
