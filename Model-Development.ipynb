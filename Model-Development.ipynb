{
 "cells": [
  {
   "cell_type": "code",
   "execution_count": 2,
   "metadata": {
    "scrolled": true
   },
   "outputs": [
    {
     "name": "stderr",
     "output_type": "stream",
     "text": [
      "Using TensorFlow backend.\n"
     ]
    }
   ],
   "source": [
    "import pandas as pd\n",
    "from sklearn import preprocessing as process\n",
    "from sklearn.model_selection import ShuffleSplit\n",
    "import keras as k\n",
    "import numpy as np\n",
    "import matplotlib.pyplot as plt"
   ]
  },
  {
   "cell_type": "markdown",
   "metadata": {},
   "source": [
    "### Quick Look at the Feature Data\n",
    "\n",
    "Most of the fields are quantities, save for the Job number and the Company. Job numbers increment in value, so the highest number jobs are the most recent. For now we will exclude those two categories."
   ]
  },
  {
   "cell_type": "code",
   "execution_count": 4,
   "metadata": {},
   "outputs": [],
   "source": [
    "df = pd.read_csv('data/features.csv', encoding='utf-8')\n",
    "df = df[df.Company == 'HEM']  # drop SMC data?\n",
    "del df['Company']\n",
    "del df['JobNum']"
   ]
  },
  {
   "cell_type": "code",
   "execution_count": 5,
   "metadata": {},
   "outputs": [
    {
     "data": {
      "text/html": [
       "<div>\n",
       "<style scoped>\n",
       "    .dataframe tbody tr th:only-of-type {\n",
       "        vertical-align: middle;\n",
       "    }\n",
       "\n",
       "    .dataframe tbody tr th {\n",
       "        vertical-align: top;\n",
       "    }\n",
       "\n",
       "    .dataframe thead th {\n",
       "        text-align: right;\n",
       "    }\n",
       "</style>\n",
       "<table border=\"1\" class=\"dataframe\">\n",
       "  <thead>\n",
       "    <tr style=\"text-align: right;\">\n",
       "      <th></th>\n",
       "      <th>SchedDays</th>\n",
       "      <th>OpCount</th>\n",
       "      <th>TotalProdHours</th>\n",
       "      <th>TotalSetupHours</th>\n",
       "      <th>TotalSubLeadTime</th>\n",
       "      <th>TotalSubCost</th>\n",
       "      <th>TotalSubContractOps</th>\n",
       "      <th>ActDays</th>\n",
       "    </tr>\n",
       "  </thead>\n",
       "  <tbody>\n",
       "    <tr>\n",
       "      <th>0</th>\n",
       "      <td>26.0</td>\n",
       "      <td>14.0</td>\n",
       "      <td>21.04</td>\n",
       "      <td>2.55</td>\n",
       "      <td>11.0</td>\n",
       "      <td>0.49593</td>\n",
       "      <td>3.0</td>\n",
       "      <td>45</td>\n",
       "    </tr>\n",
       "    <tr>\n",
       "      <th>1</th>\n",
       "      <td>44.0</td>\n",
       "      <td>12.0</td>\n",
       "      <td>9.25</td>\n",
       "      <td>3.50</td>\n",
       "      <td>29.0</td>\n",
       "      <td>7.99764</td>\n",
       "      <td>4.0</td>\n",
       "      <td>42</td>\n",
       "    </tr>\n",
       "    <tr>\n",
       "      <th>2</th>\n",
       "      <td>33.0</td>\n",
       "      <td>13.0</td>\n",
       "      <td>36.47</td>\n",
       "      <td>10.25</td>\n",
       "      <td>3.0</td>\n",
       "      <td>0.00000</td>\n",
       "      <td>1.0</td>\n",
       "      <td>43</td>\n",
       "    </tr>\n",
       "    <tr>\n",
       "      <th>3</th>\n",
       "      <td>23.0</td>\n",
       "      <td>7.0</td>\n",
       "      <td>16.41</td>\n",
       "      <td>2.84</td>\n",
       "      <td>8.0</td>\n",
       "      <td>12.74412</td>\n",
       "      <td>2.0</td>\n",
       "      <td>14</td>\n",
       "    </tr>\n",
       "    <tr>\n",
       "      <th>4</th>\n",
       "      <td>16.0</td>\n",
       "      <td>4.0</td>\n",
       "      <td>3.50</td>\n",
       "      <td>0.00</td>\n",
       "      <td>10.0</td>\n",
       "      <td>0.35000</td>\n",
       "      <td>1.0</td>\n",
       "      <td>10</td>\n",
       "    </tr>\n",
       "  </tbody>\n",
       "</table>\n",
       "</div>"
      ],
      "text/plain": [
       "   SchedDays  OpCount  TotalProdHours  TotalSetupHours  TotalSubLeadTime  \\\n",
       "0       26.0     14.0           21.04             2.55              11.0   \n",
       "1       44.0     12.0            9.25             3.50              29.0   \n",
       "2       33.0     13.0           36.47            10.25               3.0   \n",
       "3       23.0      7.0           16.41             2.84               8.0   \n",
       "4       16.0      4.0            3.50             0.00              10.0   \n",
       "\n",
       "   TotalSubCost  TotalSubContractOps  ActDays  \n",
       "0       0.49593                  3.0       45  \n",
       "1       7.99764                  4.0       42  \n",
       "2       0.00000                  1.0       43  \n",
       "3      12.74412                  2.0       14  \n",
       "4       0.35000                  1.0       10  "
      ]
     },
     "execution_count": 5,
     "metadata": {},
     "output_type": "execute_result"
    }
   ],
   "source": [
    "df.head()"
   ]
  },
  {
   "cell_type": "code",
   "execution_count": 27,
   "metadata": {},
   "outputs": [
    {
     "name": "stdout",
     "output_type": "stream",
     "text": [
      "<class 'pandas.core.frame.DataFrame'>\n",
      "Int64Index: 2754 entries, 0 to 3057\n",
      "Data columns (total 8 columns):\n",
      "SchedDays              2754 non-null float64\n",
      "OpCount                2754 non-null float64\n",
      "TotalProdHours         2754 non-null float64\n",
      "TotalSetupHours        2754 non-null float64\n",
      "TotalSubLeadTime       2754 non-null float64\n",
      "TotalSubCost           2754 non-null float64\n",
      "TotalSubContractOps    2754 non-null float64\n",
      "ActDays                2754 non-null int64\n",
      "dtypes: float64(7), int64(1)\n",
      "memory usage: 193.6 KB\n"
     ]
    }
   ],
   "source": [
    "df.info()"
   ]
  },
  {
   "cell_type": "code",
   "execution_count": 9,
   "metadata": {
    "scrolled": true
   },
   "outputs": [
    {
     "data": {
      "text/html": [
       "<div>\n",
       "<style scoped>\n",
       "    .dataframe tbody tr th:only-of-type {\n",
       "        vertical-align: middle;\n",
       "    }\n",
       "\n",
       "    .dataframe tbody tr th {\n",
       "        vertical-align: top;\n",
       "    }\n",
       "\n",
       "    .dataframe thead th {\n",
       "        text-align: right;\n",
       "    }\n",
       "</style>\n",
       "<table border=\"1\" class=\"dataframe\">\n",
       "  <thead>\n",
       "    <tr style=\"text-align: right;\">\n",
       "      <th></th>\n",
       "      <th>SchedDays</th>\n",
       "      <th>OpCount</th>\n",
       "      <th>TotalProdHours</th>\n",
       "      <th>TotalSetupHours</th>\n",
       "      <th>TotalSubLeadTime</th>\n",
       "      <th>TotalSubCost</th>\n",
       "      <th>TotalSubContractOps</th>\n",
       "      <th>ActDays</th>\n",
       "    </tr>\n",
       "  </thead>\n",
       "  <tbody>\n",
       "    <tr>\n",
       "      <th>count</th>\n",
       "      <td>3058.000000</td>\n",
       "      <td>3058.000000</td>\n",
       "      <td>3058.000000</td>\n",
       "      <td>3058.000000</td>\n",
       "      <td>3058.000000</td>\n",
       "      <td>3058.000000</td>\n",
       "      <td>3058.000000</td>\n",
       "      <td>3058.000000</td>\n",
       "    </tr>\n",
       "    <tr>\n",
       "      <th>mean</th>\n",
       "      <td>26.669392</td>\n",
       "      <td>6.771419</td>\n",
       "      <td>28.926717</td>\n",
       "      <td>2.416861</td>\n",
       "      <td>10.359120</td>\n",
       "      <td>4.753153</td>\n",
       "      <td>1.256704</td>\n",
       "      <td>25.922171</td>\n",
       "    </tr>\n",
       "    <tr>\n",
       "      <th>std</th>\n",
       "      <td>41.510981</td>\n",
       "      <td>4.196328</td>\n",
       "      <td>109.980114</td>\n",
       "      <td>3.155894</td>\n",
       "      <td>22.692434</td>\n",
       "      <td>19.675606</td>\n",
       "      <td>1.319377</td>\n",
       "      <td>28.890810</td>\n",
       "    </tr>\n",
       "    <tr>\n",
       "      <th>min</th>\n",
       "      <td>1.000000</td>\n",
       "      <td>1.000000</td>\n",
       "      <td>0.000000</td>\n",
       "      <td>0.000000</td>\n",
       "      <td>0.000000</td>\n",
       "      <td>0.000000</td>\n",
       "      <td>0.000000</td>\n",
       "      <td>0.000000</td>\n",
       "    </tr>\n",
       "    <tr>\n",
       "      <th>25%</th>\n",
       "      <td>7.000000</td>\n",
       "      <td>3.000000</td>\n",
       "      <td>3.285000</td>\n",
       "      <td>0.500000</td>\n",
       "      <td>0.000000</td>\n",
       "      <td>0.000000</td>\n",
       "      <td>0.000000</td>\n",
       "      <td>4.000000</td>\n",
       "    </tr>\n",
       "    <tr>\n",
       "      <th>50%</th>\n",
       "      <td>17.000000</td>\n",
       "      <td>6.000000</td>\n",
       "      <td>8.670000</td>\n",
       "      <td>2.000000</td>\n",
       "      <td>5.000000</td>\n",
       "      <td>0.024250</td>\n",
       "      <td>1.000000</td>\n",
       "      <td>16.000000</td>\n",
       "    </tr>\n",
       "    <tr>\n",
       "      <th>75%</th>\n",
       "      <td>33.000000</td>\n",
       "      <td>9.000000</td>\n",
       "      <td>22.685000</td>\n",
       "      <td>3.197500</td>\n",
       "      <td>13.000000</td>\n",
       "      <td>1.981870</td>\n",
       "      <td>2.000000</td>\n",
       "      <td>39.000000</td>\n",
       "    </tr>\n",
       "    <tr>\n",
       "      <th>max</th>\n",
       "      <td>980.000000</td>\n",
       "      <td>32.000000</td>\n",
       "      <td>3939.110000</td>\n",
       "      <td>102.000000</td>\n",
       "      <td>535.000000</td>\n",
       "      <td>594.676900</td>\n",
       "      <td>10.000000</td>\n",
       "      <td>292.000000</td>\n",
       "    </tr>\n",
       "  </tbody>\n",
       "</table>\n",
       "</div>"
      ],
      "text/plain": [
       "         SchedDays      OpCount  TotalProdHours  TotalSetupHours  \\\n",
       "count  3058.000000  3058.000000     3058.000000      3058.000000   \n",
       "mean     26.669392     6.771419       28.926717         2.416861   \n",
       "std      41.510981     4.196328      109.980114         3.155894   \n",
       "min       1.000000     1.000000        0.000000         0.000000   \n",
       "25%       7.000000     3.000000        3.285000         0.500000   \n",
       "50%      17.000000     6.000000        8.670000         2.000000   \n",
       "75%      33.000000     9.000000       22.685000         3.197500   \n",
       "max     980.000000    32.000000     3939.110000       102.000000   \n",
       "\n",
       "       TotalSubLeadTime  TotalSubCost  TotalSubContractOps      ActDays  \n",
       "count       3058.000000   3058.000000          3058.000000  3058.000000  \n",
       "mean          10.359120      4.753153             1.256704    25.922171  \n",
       "std           22.692434     19.675606             1.319377    28.890810  \n",
       "min            0.000000      0.000000             0.000000     0.000000  \n",
       "25%            0.000000      0.000000             0.000000     4.000000  \n",
       "50%            5.000000      0.024250             1.000000    16.000000  \n",
       "75%           13.000000      1.981870             2.000000    39.000000  \n",
       "max          535.000000    594.676900            10.000000   292.000000  "
      ]
     },
     "execution_count": 9,
     "metadata": {},
     "output_type": "execute_result"
    }
   ],
   "source": [
    "df.describe()"
   ]
  },
  {
   "cell_type": "markdown",
   "metadata": {},
   "source": [
    "### Split And Standardize and Transform The Data\n",
    "Standard Scaler brings the mean to 0 and the standard deviation to 1. Quantile Transformer shifts the distribution to look more gaussian, smoothing out unusual distributions and is less influenced by outliers than scaling methods. It does, however, distort correlations and distances within and across features"
   ]
  },
  {
   "cell_type": "code",
   "execution_count": 94,
   "metadata": {},
   "outputs": [],
   "source": [
    "from sklearn.externals import joblib\n",
    "\n",
    "# 80% of the samples will be used for training\n",
    "m = np.floor(df.shape[0] * 0.8).astype('int')\n",
    "\n",
    "# Processing X: standardize feature values\n",
    "X = df.iloc[:m, :-1].values\n",
    "x_test = df.iloc[m:, :-1].values\n",
    "\n",
    "scale = process \\\n",
    "    .StandardScaler() \\\n",
    "    .fit(X)\n",
    "\n",
    "joblib.dump(scale, 'app/scaler.pkl')  # saving the transformation for deployed system\n",
    "\n",
    "X = scale.transform(X)\n",
    "x_test = scale.transform(x_test)\n",
    "\n",
    "# Processing Y: to categories by week (over 25 weeks aka 6 months are just grouped together)\n",
    "Y = df.iloc[:m, -1:].apply(lambda x: np.where(x // 5 < 25, x // 5, 25)).values\n",
    "Y = k.utils.to_categorical(Y, num_classes=26)\n",
    "\n",
    "y_test = df.iloc[m:, -1:].apply(lambda x: np.where(x // 5 < 25, x // 5, 25)).values\n",
    "y_test = k.utils.to_categorical(y_test, num_classes=26)\n",
    "\n",
    "\n",
    "#### NOT USED ###############\n",
    "# Log shift data to get a gaussian distribution for each feature\n",
    "shift = process \\\n",
    "    .QuantileTransformer(random_state=0) \\\n",
    "    .fit(X)\n",
    "\n",
    "# Shuffling function for k-folds (model.train_on_batch)\n",
    "ss = ShuffleSplit(n_splits=5, \n",
    "                  test_size=0.25, \n",
    "                  random_state=0)\n",
    "\n",
    "def preprocess(x):\n",
    "#     x = scale.transform(x)\n",
    "    x = shift.transform(x)\n",
    "    return x\n",
    "#### NOT USED ###############"
   ]
  },
  {
   "cell_type": "markdown",
   "metadata": {},
   "source": [
    "### Model Architecture And Training"
   ]
  },
  {
   "cell_type": "code",
   "execution_count": 95,
   "metadata": {},
   "outputs": [],
   "source": [
    "from keras.models import Model\n",
    "from keras.layers import Input, Dense\n",
    "from keras import regularizers\n",
    "\n",
    "I = Input(shape=(7,))\n",
    "H = Dense(24, activation='tanh')(I)\n",
    "O = Dense(26, activation='softmax', activity_regularizer=regularizers.l2(0.01))(H)\n",
    "\n",
    "model = Model(inputs=I, outputs=O)\n",
    "model.compile(optimizer='sgd', loss='categorical_crossentropy')"
   ]
  },
  {
   "cell_type": "code",
   "execution_count": 96,
   "metadata": {
    "scrolled": true
   },
   "outputs": [
    {
     "name": "stdout",
     "output_type": "stream",
     "text": [
      "_________________________________________________________________\n",
      "Layer (type)                 Output Shape              Param #   \n",
      "=================================================================\n",
      "input_4 (InputLayer)         (None, 7)                 0         \n",
      "_________________________________________________________________\n",
      "dense_7 (Dense)              (None, 24)                192       \n",
      "_________________________________________________________________\n",
      "dense_8 (Dense)              (None, 26)                650       \n",
      "=================================================================\n",
      "Total params: 842\n",
      "Trainable params: 842\n",
      "Non-trainable params: 0\n",
      "_________________________________________________________________\n"
     ]
    }
   ],
   "source": [
    "model.summary()"
   ]
  },
  {
   "cell_type": "code",
   "execution_count": 97,
   "metadata": {
    "scrolled": true
   },
   "outputs": [
    {
     "data": {
      "text/plain": [
       "(2203, 26)"
      ]
     },
     "execution_count": 97,
     "metadata": {},
     "output_type": "execute_result"
    }
   ],
   "source": [
    "Y.shape"
   ]
  },
  {
   "cell_type": "markdown",
   "metadata": {},
   "source": [
    "### Train Baseline Model"
   ]
  },
  {
   "cell_type": "code",
   "execution_count": 98,
   "metadata": {
    "scrolled": true
   },
   "outputs": [],
   "source": [
    "from keras import optimizers\n",
    "from keras import metrics\n",
    "\n",
    "sgd = optimizers.SGD(lr=0.001, decay=1e-6, momentum=0.9, nesterov=True)\n",
    "\n",
    "model = Model(inputs=I, outputs=O)\n",
    "model.compile(optimizer='sgd', loss='categorical_crossentropy', metrics=[metrics.categorical_accuracy])\n",
    "hist = model.fit(X,Y, validation_split=0.2, epochs=50, batch_size=5, verbose=0)\n"
   ]
  },
  {
   "cell_type": "markdown",
   "metadata": {},
   "source": [
    "### Visualize Training"
   ]
  },
  {
   "cell_type": "code",
   "execution_count": 110,
   "metadata": {
    "scrolled": false
   },
   "outputs": [
    {
     "data": {
      "image/png": "[encoded data removed]",
      "text/plain": [
       "<Figure size 432x288 with 1 Axes>"
      ]
     },
     "metadata": {},
     "output_type": "display_data"
    }
   ],
   "source": [
    "import matplotlib.pyplot as plt\n",
    "plt.gca().set_title('Training Loss History', size=20)\n",
    "plt.gca().set_ylabel('error', size=14)\n",
    "plt.gca().set_xlabel('epoch', size=14)\n",
    "plt.plot(hist.history['loss'], 'o', markersize=2, label='Train')\n",
    "plt.plot(hist.history['val_loss'], 'ro', markersize=2, label='Test')\n",
    "plt.legend();"
   ]
  },
  {
   "cell_type": "markdown",
   "metadata": {},
   "source": [
    "### Continue Training"
   ]
  },
  {
   "cell_type": "code",
   "execution_count": 100,
   "metadata": {
    "scrolled": true
   },
   "outputs": [],
   "source": [
    "from keras import backend as K\n",
    "K.set_value(model.optimizer.lr, 0.0005)\n",
    "new_hist = model.fit(X,Y, validation_split=0.2, epochs=20, batch_size=10, verbose=0)"
   ]
  },
  {
   "cell_type": "markdown",
   "metadata": {},
   "source": [
    "### Check Prediction Abilities"
   ]
  },
  {
   "cell_type": "code",
   "execution_count": 102,
   "metadata": {
    "scrolled": true
   },
   "outputs": [
    {
     "name": "stdout",
     "output_type": "stream",
     "text": [
      "Model predicts with a 11 business day average lead time error\n"
     ]
    }
   ],
   "source": [
    "# Convert business-week categories to business days\n",
    "pred = np.argmax(model.predict(x_test), axis=1) * 5 + 5\n",
    "act = np.argmax(y_test, axis=1) * 5 + 5\n",
    "\n",
    "# calculate Mean Absolute Error\n",
    "mae = np.sum(np.abs(pred - act)) / x_test.shape[0]\n",
    "print(\"Model predicts with a {0:.0f} business day average lead time error\".format(mae))"
   ]
  },
  {
   "cell_type": "markdown",
   "metadata": {},
   "source": [
    "### Save Model"
   ]
  },
  {
   "cell_type": "code",
   "execution_count": 103,
   "metadata": {},
   "outputs": [],
   "source": [
    "import json\n",
    "with open('app/model.json', 'w') as outfile:\n",
    "    json.dump(model.to_json(), outfile)\n",
    "    \n",
    "model.save_weights('app/weights.h5')"
   ]
  },
  {
   "cell_type": "markdown",
   "metadata": {},
   "source": [
    "### Load Model"
   ]
  },
  {
   "cell_type": "code",
   "execution_count": 104,
   "metadata": {},
   "outputs": [],
   "source": [
    "from keras.models import model_from_json\n",
    "\n",
    "with open('app/model.json') as json_data:\n",
    "    json_string = json.load(json_data)\n",
    "    model_v2 = model_from_json(json_string)\n",
    "    \n",
    "model_v2.load_weights('app/weights.h5')"
   ]
  },
  {
   "cell_type": "markdown",
   "metadata": {},
   "source": [
    "### Double Check Prediction Capabilities"
   ]
  },
  {
   "cell_type": "code",
   "execution_count": 105,
   "metadata": {},
   "outputs": [
    {
     "name": "stdout",
     "output_type": "stream",
     "text": [
      "Model predicts with a 11 business day average lead time error\n"
     ]
    }
   ],
   "source": [
    "# Convert business-week categories to business days\n",
    "pred = np.argmax(model_v2.predict(x_test), axis=1) * 5 + 5\n",
    "act = np.argmax(y_test, axis=1) * 5 + 5\n",
    "\n",
    "# calculate Mean Absolute Error\n",
    "mae = np.sum(np.abs(pred - act)) / x_test.shape[0]\n",
    "print(\"Model predicts with a {0:.0f} business day average lead time error\".format(mae))"
   ]
  }
 ],
 "metadata": {
  "kernelspec": {
   "display_name": "Python [default]",
   "language": "python",
   "name": "python3"
  },
  "language_info": {
   "codemirror_mode": {
    "name": "ipython",
    "version": 3
   },
   "file_extension": ".py",
   "mimetype": "text/x-python",
   "name": "python",
   "nbconvert_exporter": "python",
   "pygments_lexer": "ipython3",
   "version": "3.6.5"
  }
 },
 "nbformat": 4,
 "nbformat_minor": 2
}
